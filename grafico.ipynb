%matplotlib inline
from mpl_toolkits.mplot3d import Axes3D
from matplotlib.pyplot import *
from numpy import *
from scipy.integrate import quad
style.use('classic')
V=10
R = 1.
def f(ph):
    return V
def integrando_b(ph,n):
    return f(ph)*sin(n*ph)
def b(n):
    return (1./(pi*R**n))*quad(integrando_b, -pi, pi, args=n)[0]
